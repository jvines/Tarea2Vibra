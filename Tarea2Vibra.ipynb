{
 "cells": [
  {
   "cell_type": "code",
   "execution_count": 60,
   "metadata": {
    "collapsed": false
   },
   "outputs": [],
   "source": [
    "import numpy as np\n",
    "import matplotlib.pyplot as plt\n",
    "import cmath as ma\n",
    "#from sympy import *\n",
    "\n",
    "#init_printing(use_unicode=True)\n",
    "\n",
    "#%matplotlib inline"
   ]
  },
  {
   "cell_type": "code",
   "execution_count": null,
   "metadata": {
    "collapsed": false
   },
   "outputs": [],
   "source": [
    "k0, k1, a, b = symbols(\"k0 k1 a b\")\n",
    "print(latex(k0+ k1+ a+ b))"
   ]
  },
  {
   "cell_type": "code",
   "execution_count": null,
   "metadata": {
    "collapsed": false
   },
   "outputs": [],
   "source": [
    "T1 = Matrix([[k0+k1,k0-k1],[k0-k1,k0+k1]])/(2*k0)\n",
    "T2 = Matrix([[(k1+k0)*exp_polar(I*a*(k0-k1)), (k1-k0)*exp_polar(-I*a*(k0+k1))],\\\n",
    "             [(k1-k0)*exp_polar(I*a*(k0+k1)), (k1+k0)*exp_polar(-I*a*(k0-k1))]])/(2*k1)\n",
    "T3 = Matrix([[(k0+k1)*exp_polar(-I*(a+b)*(k0-k1)), (k0-k1)*exp_polar(-I*(a+b)*(k0+k1))],\\\n",
    "             [(k0-k1)*exp_polar(I*(a+b)*(k0+k1)), (k0+k1)*exp_polar(I*(a+b)*(k0-k1))]])/(2*k0)\n",
    "T4 = Matrix([[(k1+k0)*exp_polar(I*(2*a+b)*(k0-k1)), (k1-k0)*exp_polar(-I*(2*a+b)*(k0+k1))],\\\n",
    "             [(k1-k0)*exp_polar(I*(2*a+b)*(k0+k1)), (k1+k0)*exp_polar(-I*(2*a+b)*(k0-k1))]])/(2*k1)\n",
    "T1, T2, T3, T4"
   ]
  },
  {
   "cell_type": "code",
   "execution_count": null,
   "metadata": {
    "collapsed": false
   },
   "outputs": [],
   "source": [
    "T12 = T1*T2\n",
    "T123 = T12*T3\n",
    "Tfinal = T123*T4"
   ]
  },
  {
   "cell_type": "code",
   "execution_count": null,
   "metadata": {
    "collapsed": false
   },
   "outputs": [],
   "source": [
    "#Tfinal\n",
    "T12_s = simplify(T12)\n",
    "T12_s"
   ]
  },
  {
   "cell_type": "code",
   "execution_count": null,
   "metadata": {
    "collapsed": false
   },
   "outputs": [],
   "source": [
    "T12_s[2]"
   ]
  },
  {
   "cell_type": "code",
   "execution_count": null,
   "metadata": {
    "collapsed": false
   },
   "outputs": [],
   "source": [
    "Tfinal_s = simplify(Tfinal)\n",
    "Tfinal_s2 = simplify(Tfinal_s)\n",
    "Current = Tfinal_s2*16*k0**2*k1**2"
   ]
  },
  {
   "cell_type": "code",
   "execution_count": null,
   "metadata": {
    "collapsed": false
   },
   "outputs": [],
   "source": [
    "Current"
   ]
  },
  {
   "cell_type": "code",
   "execution_count": null,
   "metadata": {
    "collapsed": false
   },
   "outputs": [],
   "source": [
    "ma.exp(1j)"
   ]
  },
  {
   "cell_type": "code",
   "execution_count": null,
   "metadata": {
    "collapsed": false
   },
   "outputs": [],
   "source": [
    "k0 = 2; k1 = 1; a = 0.00001"
   ]
  },
  {
   "cell_type": "code",
   "execution_count": null,
   "metadata": {
    "collapsed": false
   },
   "outputs": [],
   "source": [
    "res1 = 2*(k0**2-k1**2)*ma.sin(a*k1)\n",
    "res2 = abs(ma.exp(1j*a*k0)*(k0**2-k1**2)*-2*1j*ma.sin(a*k1))\n",
    "res1.real, (res2)"
   ]
  },
  {
   "cell_type": "code",
   "execution_count": null,
   "metadata": {
    "collapsed": false
   },
   "outputs": [],
   "source": [
    "res3 = (k0+k1)**4+(k0-k1)**4+(2*(k0**2-k1**2)**2)*(2*ma.sin(a*k1)-1)\n",
    "res4 = ma.exp(1j*a*k0)*(((k0+k1)**2)*ma.exp(-1j*a*k1)-((k0-k1)**2)*ma.exp(1j*a*k1))\n",
    "res3.real, ma.polar(res4)[0]**2"
   ]
  },
  {
   "cell_type": "code",
   "execution_count": null,
   "metadata": {
    "collapsed": false
   },
   "outputs": [],
   "source": [
    "arr =np.array([[1,0,0],[0,1,0],[0,0,1]])\n",
    "arr2 = np.array([[3,4,5],[6,7,8],[1,3,2]])"
   ]
  },
  {
   "cell_type": "code",
   "execution_count": null,
   "metadata": {
    "collapsed": false
   },
   "outputs": [],
   "source": [
    "np.matmul(arr,arr2)"
   ]
  },
  {
   "cell_type": "code",
   "execution_count": null,
   "metadata": {
    "collapsed": false
   },
   "outputs": [],
   "source": [
    "type(1j)"
   ]
  },
  {
   "cell_type": "code",
   "execution_count": null,
   "metadata": {
    "collapsed": false
   },
   "outputs": [],
   "source": [
    "rho0 = 100\n",
    "rho1 = 50\n",
    "a = 0.01\n",
    "b = 0.01\n",
    "w = 1\n",
    "T = 100\n",
    "j = 1\n",
    "i = 1j\n",
    "T_2 = ma.sqrt(T)\n",
    "w_t = w/T_2\n",
    "rho0_2 = ma.sqrt(rho0)\n",
    "rho1_2 = ma.sqrt(rho1)\n",
    "rho_diff = rho0_2-rho1_2\n",
    "rho_sum = rho0_2+rho1_2\n",
    "M10 = np.array(\\\n",
    "               [\\\n",
    "                [rho_sum*ma.exp(i*w_t*rho_diff*((a+b)*j+a)), rho_diff*ma.exp(-i*w_t*rho_sum*((a+b)*j+a))],\\\n",
    "                [rho_diff*ma.exp(i*w_t*rho_sum*((a+b)*j+a)), rho_sum*ma.exp(-i*w_t*rho_diff*((a+b)*j+a))]\\\n",
    "               ]\\\n",
    "               ,complex)/(2*rho1_2)\n",
    "M01 = np.array(\\\n",
    "               [\\\n",
    "                [rho_sum*ma.exp(i*w_t*rho_diff*(a+b)*j), rho_diff*ma.exp(-i*w_t*rho_sum*(a+b)*j)],\\\n",
    "                [rho_diff*ma.exp(i*w_t*rho_sum*(a+b)*j), rho_sum*ma.exp(-i*w_t*rho_diff*(a+b)*j)]\\\n",
    "               ]\\\n",
    "               ,complex)/(2*rho0_2)"
   ]
  },
  {
   "cell_type": "code",
   "execution_count": 83,
   "metadata": {
    "collapsed": false
   },
   "outputs": [],
   "source": [
    "T_arr=np.array([])\n",
    "M_res = np.identity(2, complex)\n",
    "omega = np.linspace(0, 10*ma.pi, num=1000)\n",
    "N = 100\n",
    "\n",
    "rho0 = 1.\n",
    "rho1 = 100.\n",
    "a = 0.01\n",
    "b = 0.01\n",
    "T = 100\n",
    "i = 1j\n",
    "T_2 = ma.sqrt(T)\n",
    "rho0_2 = ma.sqrt(rho0)\n",
    "rho1_2 = ma.sqrt(rho1)\n",
    "rho_diff = rho0_2-rho1_2\n",
    "rho_sum = rho0_2+rho1_2\n",
    "\n",
    "for w in omega:\n",
    "    w_t = w/T_2\n",
    "    M_res = np.identity(2,complex)\n",
    "    for j in range(N):\n",
    "        M10 = np.array(\\\n",
    "               [\\\n",
    "                [rho_sum*ma.exp(i*w_t*rho_diff*((a+b)*j+a)), -rho_diff*ma.exp(-i*w_t*rho_sum*((a+b)*j+a))],\\\n",
    "                [-rho_diff*ma.exp(i*w_t*rho_sum*((a+b)*j+a)), rho_sum*ma.exp(-i*w_t*rho_diff*((a+b)*j+a))]\\\n",
    "               ]\\\n",
    "               ,complex)/(2*rho1_2)\n",
    "        M01 = np.array(\\\n",
    "               [\\\n",
    "                [rho_sum*ma.exp(i*w_t*-rho_diff*(a+b)*j), rho_diff*ma.exp(-i*w_t*rho_sum*(a+b)*j)],\\\n",
    "                [rho_diff*ma.exp(i*w_t*rho_sum*(a+b)*j), rho_sum*ma.exp(-i*w_t*-rho_diff*(a+b)*j)]\\\n",
    "               ]\\\n",
    "               ,complex)/(2*rho0_2)\n",
    "        new = np.matmul(M01,M10)\n",
    "        M_res = np.matmul(M_res,new)\n",
    "    T_arr = np.append(T_arr,1/ma.polar(M_res[0,0])[0]**2)\n",
    "\n"
   ]
  },
  {
   "cell_type": "code",
   "execution_count": 82,
   "metadata": {
    "collapsed": false
   },
   "outputs": [],
   "source": [
    "axis_font = {'size':'28'}\n",
    "title_font = {'size':'26', 'verticalalignment':'bottom'}\n",
    "\n",
    "plt.plot(omega,T_arr)\n",
    "plt.xlabel(\"$\\omega$\", **axis_font)\n",
    "plt.ylabel(\"Coeficiente de transmision $T(\\omega)$\", **axis_font)\n",
    "title = \"Coef. de Transmision con N={}\".format(N)\n",
    "if N==1:\n",
    "    title+=\" modulacion\"\n",
    "else:\n",
    "    title+=\" modulaciones\"\n",
    "title+=\", con $\\\\frac{{\\\\rho_0}}{{\\\\rho_1}}$ = {:01.2f}\".format(rho0/rho1)\n",
    "plt.title(title, **title_font)\n",
    "plt.show()"
   ]
  },
  {
   "cell_type": "code",
   "execution_count": null,
   "metadata": {
    "collapsed": true
   },
   "outputs": [],
   "source": []
  },
  {
   "cell_type": "code",
   "execution_count": null,
   "metadata": {
    "collapsed": false
   },
   "outputs": [],
   "source": []
  },
  {
   "cell_type": "code",
   "execution_count": null,
   "metadata": {
    "collapsed": true
   },
   "outputs": [],
   "source": []
  }
 ],
 "metadata": {
  "anaconda-cloud": {},
  "kernelspec": {
   "display_name": "Python [Root]",
   "language": "python",
   "name": "Python [Root]"
  },
  "language_info": {
   "codemirror_mode": {
    "name": "ipython",
    "version": 2
   },
   "file_extension": ".py",
   "mimetype": "text/x-python",
   "name": "python",
   "nbconvert_exporter": "python",
   "pygments_lexer": "ipython2",
   "version": "2.7.12"
  }
 },
 "nbformat": 4,
 "nbformat_minor": 0
}
